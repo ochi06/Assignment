{
  "nbformat": 4,
  "nbformat_minor": 0,
  "metadata": {
    "colab": {
      "provenance": [],
      "gpuType": "T4",
      "authorship_tag": "ABX9TyNW6eG30G2lvDZoMCGbZq23",
      "include_colab_link": true
    },
    "kernelspec": {
      "name": "python3",
      "display_name": "Python 3"
    },
    "language_info": {
      "name": "python"
    },
    "accelerator": "GPU"
  },
  "cells": [
    {
      "cell_type": "markdown",
      "metadata": {
        "id": "view-in-github",
        "colab_type": "text"
      },
      "source": [
        "<a href=\"https://colab.research.google.com/github/ochi06/portfolio/blob/main/pytorch%EF%BC%BFiris.ipynb\" target=\"_parent\"><img src=\"https://colab.research.google.com/assets/colab-badge.svg\" alt=\"Open In Colab\"/></a>"
      ]
    },
    {
      "cell_type": "code",
      "execution_count": null,
      "metadata": {
        "id": "lHVY8vxr6Dcg"
      },
      "outputs": [],
      "source": [
        "import torch\n",
        "import torch.nn as nn\n",
        "import torch.nn.functional as F\n",
        "from sklearn.datasets import load_iris"
      ]
    },
    {
      "cell_type": "code",
      "source": [
        "iris = load_iris()\n",
        "\n",
        "#入力値と目標値を抽出\n",
        "x = iris['data']\n",
        "t = iris['target']\n",
        "\n",
        "#PyTorchのTensor型へ変換\n",
        "x = torch.tensor(x, dtype=torch.float32)\n",
        "t = torch.tensor(t, dtype=torch.int64)"
      ],
      "metadata": {
        "id": "wZtvRk4_7Ypu"
      },
      "execution_count": null,
      "outputs": []
    },
    {
      "cell_type": "markdown",
      "source": [
        "DataLoader"
      ],
      "metadata": {
        "id": "JkKP167N9RBp"
      }
    },
    {
      "cell_type": "code",
      "source": [
        "#入力値と目標値をまとめる\n",
        "dataset = torch.utils.data.TensorDataset(x,t)"
      ],
      "metadata": {
        "id": "ZiVycMrQ8xYi"
      },
      "execution_count": null,
      "outputs": []
    },
    {
      "cell_type": "markdown",
      "source": [
        "データセット分割"
      ],
      "metadata": {
        "id": "xYHFsRyP925-"
      }
    },
    {
      "cell_type": "code",
      "source": [
        "#各データのサンプル数を決定\n",
        "#train : val : test = 60% : 20% : 20%\n",
        "n_train =int(len(dataset)*0.6)\n",
        "n_val = int(len(dataset)*0.2)\n",
        "n_test = len(dataset)-n_train - n_val\n",
        "\n",
        "torch.manual_seed(42)\n",
        "\n",
        "#データセットの分割\n",
        "train, val, test = torch.utils.data.random_split(dataset, [n_train, n_val, n_test])"
      ],
      "metadata": {
        "id": "uPRPF_Uv8yWJ"
      },
      "execution_count": null,
      "outputs": []
    },
    {
      "cell_type": "markdown",
      "source": [
        "ミニバッチ学習"
      ],
      "metadata": {
        "id": "QIv3_JnT_KP-"
      }
    },
    {
      "cell_type": "code",
      "source": [
        "batch_size = 16\n",
        "\n",
        "train_loader = torch.utils.data.DataLoader(train, batch_size, shuffle=True, drop_last=True)\n",
        "val_loader = torch.utils.data.DataLoader(val, batch_size)\n",
        "test_loader = torch.utils.data.DataLoader(test,batch_size)\n",
        "\n",
        "x,t=next(iter(train_loader))"
      ],
      "metadata": {
        "id": "IRadIbPR8y6H"
      },
      "execution_count": null,
      "outputs": []
    },
    {
      "cell_type": "markdown",
      "source": [
        "ネットワークの定義"
      ],
      "metadata": {
        "id": "W0B76061AQQT"
      }
    },
    {
      "cell_type": "markdown",
      "source": [
        "4→4→3の全結合層を定義"
      ],
      "metadata": {
        "id": "OVMUB4joATbC"
      }
    },
    {
      "cell_type": "code",
      "source": [
        "class Net(nn.Module):\n",
        "\n",
        "#使用するオブジェクトを定義\n",
        "  def __init__(self):\n",
        "    super().__init__()\n",
        "    self.fc1=nn.Linear(4,4)\n",
        "    self.fc2=nn.Linear(4,3)\n",
        "\n",
        "  #準伝播\n",
        "  def forward(self,x):\n",
        "    h=self.fc1(x)\n",
        "    h=F.relu(h)\n",
        "    h=self.fc2(h)\n",
        "    return h\n",
        "\n",
        "torch.manual_seed(0)\n",
        "\n",
        "#インスタンス化\n",
        "net=Net()\n",
        "\n",
        "optimizer = torch.optim.SGD(net.parameters(), lr=0.01)\n",
        "\n",
        "batch=next(iter(train_loader))\n",
        "\n",
        "x,t =batch\n",
        "#予測値の算出\n",
        "y=net(x)\n"
      ],
      "metadata": {
        "id": "156GkCjh8zA0"
      },
      "execution_count": null,
      "outputs": []
    },
    {
      "cell_type": "code",
      "source": [
        "device=torch.device('cuda:0' if torch.cuda.is_available() else 'cpu')"
      ],
      "metadata": {
        "id": "B3Fe_ioLCOQ6"
      },
      "execution_count": null,
      "outputs": []
    },
    {
      "cell_type": "code",
      "source": [
        "x=x.to(device)\n",
        "t=t.to(device)\n",
        "\n",
        "torch.manual_seed(0)\n",
        "\n",
        "#モデルのインスタンス化とデバイスへの転送\n",
        "net=Net().to(device)\n",
        "\n",
        "#最適化手法\n",
        "optimizer = torch.optim.SGD(net.parameters(), lr=0.01)"
      ],
      "metadata": {
        "id": "py-dmVncCR_n"
      },
      "execution_count": null,
      "outputs": []
    },
    {
      "cell_type": "code",
      "source": [
        "#エポック数\n",
        "max_epoch=5\n",
        "\n",
        "#学習のループ\n",
        "for epoch in range(max_epoch):\n",
        "  for batch in train_loader:\n",
        "    x,t=batch\n",
        "    x=x.to(device)\n",
        "    t=t.to(device)\n",
        "    y=net(x)\n",
        "    loss=F.cross_entropy(y,t)\n",
        "    print(f'loss:{loss}')\n",
        "    optimizer.zero_grad()\n",
        "    loss.backward()\n",
        "    optimizer.step()"
      ],
      "metadata": {
        "colab": {
          "base_uri": "https://localhost:8080/"
        },
        "id": "Wm9IUTTnD7kI",
        "outputId": "9fb01922-f3e5-4e79-84a3-4e16ac5f54c4"
      },
      "execution_count": null,
      "outputs": [
        {
          "output_type": "stream",
          "name": "stdout",
          "text": [
            "loss:1.0908641815185547\n",
            "loss:1.0624275207519531\n",
            "loss:1.0957728624343872\n",
            "loss:1.0879180431365967\n",
            "loss:1.0413137674331665\n",
            "loss:1.0554883480072021\n",
            "loss:1.0475170612335205\n",
            "loss:1.0691304206848145\n",
            "loss:1.0631484985351562\n",
            "loss:1.016585111618042\n",
            "loss:1.056710124015808\n",
            "loss:1.0293322801589966\n",
            "loss:1.0432616472244263\n",
            "loss:1.0319433212280273\n",
            "loss:1.0524427890777588\n",
            "loss:0.9986320734024048\n",
            "loss:1.010651707649231\n",
            "loss:1.0500200986862183\n",
            "loss:1.0783939361572266\n",
            "loss:1.0198673009872437\n",
            "loss:1.023457646369934\n",
            "loss:1.0020211935043335\n",
            "loss:1.053947925567627\n",
            "loss:1.022329330444336\n",
            "loss:1.0232975482940674\n"
          ]
        }
      ]
    },
    {
      "cell_type": "markdown",
      "source": [
        "評価指標の追加"
      ],
      "metadata": {
        "id": "5sWKaa2iFbBy"
      }
    },
    {
      "cell_type": "code",
      "source": [
        "x,t=next(iter(train_loader))\n",
        "x=x.to(device)\n",
        "t =t.to(device)\n",
        "y=net(x)\n",
        "\n",
        "y_label=torch.argmax(y, dim=1)\n",
        "\n",
        "accuracy=(y_label==t).sum().float()/len(t)\n",
        "accuracy"
      ],
      "metadata": {
        "id": "Ftxp9av_D7iC"
      },
      "execution_count": null,
      "outputs": []
    },
    {
      "cell_type": "code",
      "source": [
        "#正解率を計算する関数\n",
        "def calc_accuracy(data_loader):\n",
        "  with torch.no_grad():\n",
        "    total=0\n",
        "    correct=0.0\n",
        "    for batch in data_loader:\n",
        "      x,t =batch\n",
        "      x=x.to(device)\n",
        "      t=t.to(device)\n",
        "      y=net(x)\n",
        "      y_label=torch.argmax(y, dim=1)\n",
        "      total+=len(t)\n",
        "      correct +=(y_label==t).sum()\n",
        "\n",
        "    #全体の平均を算出\n",
        "    accuracy=correct/total\n",
        "\n",
        "  return accuracy"
      ],
      "metadata": {
        "id": "dlL0ocI5D7O3"
      },
      "execution_count": null,
      "outputs": []
    },
    {
      "cell_type": "code",
      "source": [
        "calc_accuracy(train_loader)"
      ],
      "metadata": {
        "id": "G6lEXft7GttH"
      },
      "execution_count": null,
      "outputs": []
    },
    {
      "cell_type": "code",
      "source": [
        "calc_accuracy(test_loader)"
      ],
      "metadata": {
        "id": "HFV9pKkGGtqX"
      },
      "execution_count": null,
      "outputs": []
    }
  ]
}